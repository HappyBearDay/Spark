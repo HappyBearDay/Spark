{
 "cells": [
  {
   "cell_type": "code",
   "execution_count": 1,
   "metadata": {},
   "outputs": [],
   "source": [
    "from pyspark import SparkConf,SparkContext\n",
    "import sys\n",
    "import numpy as np\n"
   ]
  },
  {
   "cell_type": "code",
   "execution_count": 22,
   "metadata": {
    "scrolled": true
   },
   "outputs": [],
   "source": [
    "sc.stop()"
   ]
  },
  {
   "cell_type": "code",
   "execution_count": 23,
   "metadata": {},
   "outputs": [],
   "source": [
    "dataset = \"data2.txt\"\n",
    "output_file = \"output.txt\"\n",
    "#dataset = \"./data/data-1.txt\"\n",
    "\n",
    "conf = (SparkConf()\n",
    "        .setAppName(\"Hamroun\"))\n",
    "sc = SparkContext(conf=conf)\n",
    "\n",
    "\n"
   ]
  },
  {
   "cell_type": "code",
   "execution_count": null,
   "metadata": {},
   "outputs": [],
   "source": []
  },
  {
   "cell_type": "code",
   "execution_count": 24,
   "metadata": {},
   "outputs": [],
   "source": [
    "#Data Loading\n",
    "raw_matrix_file = sc.textFile(dataset)\n",
    "#Compute A\n",
    "A = raw_matrix_file.map(lambda row: row.split()).map(lambda row: [float(element) for element in\n",
    "row])\n",
    "#Compute AT_A \n",
    "AT_A = A.map(lambda row: np.outer(row, row)).reduce(lambda x,y : np.array(x) + np.array(y))\n",
    "\n",
    "#Compte A * (AT_A)\n",
    "A_AT_A = A.map(lambda row: np.dot(row,AT_A ))\n",
    "\n",
    "#Partitionning and saving\n",
    "A_AT_A.partitionBy(10)\n",
    "A_AT_A.saveAsTextFile(output_file)"
   ]
  }
 ],
 "metadata": {
  "kernelspec": {
   "display_name": "Python 3",
   "language": "python",
   "name": "python3"
  },
  "language_info": {
   "codemirror_mode": {
    "name": "ipython",
    "version": 3
   },
   "file_extension": ".py",
   "mimetype": "text/x-python",
   "name": "python",
   "nbconvert_exporter": "python",
   "pygments_lexer": "ipython3",
   "version": "3.6.7"
  }
 },
 "nbformat": 4,
 "nbformat_minor": 2
}
