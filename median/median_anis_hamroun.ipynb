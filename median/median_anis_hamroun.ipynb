{
 "cells": [
  {
   "cell_type": "code",
   "execution_count": 1,
   "metadata": {},
   "outputs": [],
   "source": [
    "from pyspark import SparkContext, SparkConf\n",
    "import os\n",
    "import sys"
   ]
  },
  {
   "cell_type": "code",
   "execution_count": 60,
   "metadata": {},
   "outputs": [],
   "source": [
    "sc.stop()"
   ]
  },
  {
   "cell_type": "code",
   "execution_count": 63,
   "metadata": {},
   "outputs": [],
   "source": [
    "\n",
    "dataset = \"./data-1-sample.txt\"\n",
    "conf = (SparkConf()\n",
    "        .setAppName(\"hamroun\"))\n",
    "sc = SparkContext(conf=conf)\n"
   ]
  },
  {
   "cell_type": "code",
   "execution_count": 64,
   "metadata": {
    "scrolled": false
   },
   "outputs": [
    {
     "name": "stdout",
     "output_type": "stream",
     "text": [
      "Data Loading\n",
      "number of groups = 10.0\n",
      "Count = 1000\n",
      "Sum = 50190.59338748\n",
      "Max = 99.97232931\n",
      "Min = 0.02928808\n",
      "quotient = 10.00\n",
      "creation of key-value RDD\n",
      "Researching of group which contains the median.\n",
      "the id of the group which contains the median value : \n",
      "5\n",
      "the id of the median in the selected group : \n",
      "4\n",
      "median = 50.64663482\n"
     ]
    }
   ],
   "source": [
    "\n",
    "#Data Loading\n",
    "\n",
    "print(\"Data Loading\")\n",
    "original_data = sc.textFile(dataset)\n",
    "original_data = original_data.map(lambda s: float(s))\n",
    "\n",
    "#Definition of groupe Number\n",
    "nb_groups = 10.0\n",
    "\n",
    "\n",
    "count = original_data.count()\n",
    "sum = original_data.sum()\n",
    "max_data = original_data.max()\n",
    "\n",
    "min_data = original_data.min()\n",
    "quotient = round( (max_data/nb_group) - (min_data/nb_group))\n",
    "\n",
    "\n",
    "\n",
    "print(\"number of groups =\", nb_groups)\n",
    "print(\"Count =\", count)\n",
    "print(\"Sum = %.8f\" % sum)\n",
    "print(\"Max = %.8f\" % max_data)\n",
    "print(\"Min = %.8f\" % min_data)\n",
    "print(\"quotient = %.2f\" % quotient)\n",
    "\n",
    "\n",
    "print(\"creation of key-value RDD\")\n",
    "keys_value_data = original_data.map(lambda number: ((int( number/quotient - min_data/quotient )),number))\n",
    "keys_data = keys_value_data.groupByKey()\n",
    "\n",
    "len_by_key = keys_data.mapValues(len).sortByKey()\n",
    "\n",
    "\n",
    "list_lengths = len_by_key.values().collect()\n",
    "list_keys = len_by_key.keys().collect()\n",
    "\n",
    "accumulated_number = 0\n",
    "\n",
    "print(\"Researching of group which contains the median.\")\n",
    "for current_id,current_length  in zip(list_keys,list_lengths  ):\n",
    "    accumulated_number += current_length\n",
    "    if(accumulated_number > count / 2):\n",
    "        break\n",
    "\n",
    "\n",
    "median_index = int(count / 2 ) - (accumulated_number - list_lengths[current_id])\n",
    "print(\"the id of the group which contains the median value : \")\n",
    "\n",
    "print(current_id)\n",
    "print(\"the id of the median in the selected group : \")\n",
    "\n",
    "print(median_index)\n",
    "\n",
    "selected_group = keys_data.mapValues(list).lookup(current_id)\n",
    "median = sorted(selected_group[0])[median_index]\n",
    "\n",
    "\n",
    "\n",
    "print(\"median = %.8f\" % median)\n",
    "sc.stop()"
   ]
  }
 ],
 "metadata": {
  "kernelspec": {
   "display_name": "Python 3",
   "language": "python",
   "name": "python3"
  },
  "language_info": {
   "codemirror_mode": {
    "name": "ipython",
    "version": 3
   },
   "file_extension": ".py",
   "mimetype": "text/x-python",
   "name": "python",
   "nbconvert_exporter": "python",
   "pygments_lexer": "ipython3",
   "version": "3.6.7"
  }
 },
 "nbformat": 4,
 "nbformat_minor": 2
}
